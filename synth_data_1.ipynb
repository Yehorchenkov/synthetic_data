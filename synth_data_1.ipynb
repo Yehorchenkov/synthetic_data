{
 "cells": [
  {
   "cell_type": "markdown",
   "metadata": {},
   "source": [
    "# Generating synthetic data for projects"
   ]
  },
  {
   "cell_type": "markdown",
   "metadata": {},
   "source": [
    "## Preparing data"
   ]
  },
  {
   "cell_type": "code",
   "execution_count": 1,
   "metadata": {},
   "outputs": [],
   "source": [
    "import pandas as pd\n",
    "import numpy as np\n",
    "import seaborn as sns\n",
    "from numpy import datetime64\n",
    "import warnings\n",
    "from sklearn.model_selection import train_test_split, StratifiedKFold, cross_val_score, GridSearchCV\n",
    "from sdv.tabular import GaussianCopula, CTGAN, CopulaGAN, TVAE"
   ]
  },
  {
   "cell_type": "code",
   "execution_count": 2,
   "metadata": {},
   "outputs": [],
   "source": [
    "df=pd.read_excel('Project_date_v3.xlsx', header = 1)"
   ]
  },
  {
   "cell_type": "code",
   "execution_count": 3,
   "metadata": {},
   "outputs": [
    {
     "data": {
      "text/html": [
       "<div>\n",
       "<style scoped>\n",
       "    .dataframe tbody tr th:only-of-type {\n",
       "        vertical-align: middle;\n",
       "    }\n",
       "\n",
       "    .dataframe tbody tr th {\n",
       "        vertical-align: top;\n",
       "    }\n",
       "\n",
       "    .dataframe thead th {\n",
       "        text-align: right;\n",
       "    }\n",
       "</style>\n",
       "<table border=\"1\" class=\"dataframe\">\n",
       "  <thead>\n",
       "    <tr style=\"text-align: right;\">\n",
       "      <th></th>\n",
       "      <th>№</th>\n",
       "      <th>GROUP</th>\n",
       "      <th>INITIATIVE CODE</th>\n",
       "      <th>CATEGORY</th>\n",
       "      <th>BUDGET &gt;5 MLN</th>\n",
       "      <th>BUDGET MLN</th>\n",
       "      <th>DATE START PLAN</th>\n",
       "      <th>DATE END PLAN</th>\n",
       "      <th>DURATION PLAN</th>\n",
       "      <th>DURATION &gt;30</th>\n",
       "      <th>COMPLIANCE STRATEGY</th>\n",
       "      <th>AUTHORIZATION</th>\n",
       "      <th>FINISH FACT</th>\n",
       "      <th>REQUIREMENTS LAW</th>\n",
       "      <th>PM NAME</th>\n",
       "      <th>SPONSOR NAME</th>\n",
       "    </tr>\n",
       "  </thead>\n",
       "  <tbody>\n",
       "    <tr>\n",
       "      <th>0</th>\n",
       "      <td>1</td>\n",
       "      <td>UB</td>\n",
       "      <td>UB_0_008</td>\n",
       "      <td>STRAT</td>\n",
       "      <td>1</td>\n",
       "      <td>7.18</td>\n",
       "      <td>2016-06-17</td>\n",
       "      <td>2018-12-28</td>\n",
       "      <td>30</td>\n",
       "      <td>1</td>\n",
       "      <td>1</td>\n",
       "      <td>1</td>\n",
       "      <td>1</td>\n",
       "      <td>1</td>\n",
       "      <td>William T.</td>\n",
       "      <td>Bill E.</td>\n",
       "    </tr>\n",
       "    <tr>\n",
       "      <th>1</th>\n",
       "      <td>2</td>\n",
       "      <td>SР</td>\n",
       "      <td>SР_1_004</td>\n",
       "      <td>USUAL</td>\n",
       "      <td>0</td>\n",
       "      <td>2.55</td>\n",
       "      <td>2015-07-01</td>\n",
       "      <td>2016-08-30</td>\n",
       "      <td>13</td>\n",
       "      <td>0</td>\n",
       "      <td>0</td>\n",
       "      <td>1</td>\n",
       "      <td>1</td>\n",
       "      <td>0</td>\n",
       "      <td>Thomas M.</td>\n",
       "      <td>Jerry H.</td>\n",
       "    </tr>\n",
       "    <tr>\n",
       "      <th>2</th>\n",
       "      <td>3</td>\n",
       "      <td>OB</td>\n",
       "      <td>OB_1_009</td>\n",
       "      <td>USUAL</td>\n",
       "      <td>0</td>\n",
       "      <td>3.68</td>\n",
       "      <td>2015-07-28</td>\n",
       "      <td>2019-04-30</td>\n",
       "      <td>45</td>\n",
       "      <td>1</td>\n",
       "      <td>1</td>\n",
       "      <td>1</td>\n",
       "      <td>1</td>\n",
       "      <td>1</td>\n",
       "      <td>Scarlett Y.</td>\n",
       "      <td>Gordon D.</td>\n",
       "    </tr>\n",
       "    <tr>\n",
       "      <th>3</th>\n",
       "      <td>4</td>\n",
       "      <td>UB</td>\n",
       "      <td>UB_0_004</td>\n",
       "      <td>STRAT</td>\n",
       "      <td>1</td>\n",
       "      <td>5.53</td>\n",
       "      <td>2015-12-24</td>\n",
       "      <td>2016-12-30</td>\n",
       "      <td>12</td>\n",
       "      <td>0</td>\n",
       "      <td>1</td>\n",
       "      <td>0</td>\n",
       "      <td>0</td>\n",
       "      <td>0</td>\n",
       "      <td>Samuel.J.</td>\n",
       "      <td>Bill E.</td>\n",
       "    </tr>\n",
       "    <tr>\n",
       "      <th>4</th>\n",
       "      <td>5</td>\n",
       "      <td>РP</td>\n",
       "      <td>РP_1_044</td>\n",
       "      <td>USUAL</td>\n",
       "      <td>0</td>\n",
       "      <td>4.34</td>\n",
       "      <td>2020-03-19</td>\n",
       "      <td>2021-10-31</td>\n",
       "      <td>19</td>\n",
       "      <td>0</td>\n",
       "      <td>1</td>\n",
       "      <td>1</td>\n",
       "      <td>1</td>\n",
       "      <td>1</td>\n",
       "      <td>Phoebe F.</td>\n",
       "      <td>Dave P.</td>\n",
       "    </tr>\n",
       "    <tr>\n",
       "      <th>...</th>\n",
       "      <td>...</td>\n",
       "      <td>...</td>\n",
       "      <td>...</td>\n",
       "      <td>...</td>\n",
       "      <td>...</td>\n",
       "      <td>...</td>\n",
       "      <td>...</td>\n",
       "      <td>...</td>\n",
       "      <td>...</td>\n",
       "      <td>...</td>\n",
       "      <td>...</td>\n",
       "      <td>...</td>\n",
       "      <td>...</td>\n",
       "      <td>...</td>\n",
       "      <td>...</td>\n",
       "      <td>...</td>\n",
       "    </tr>\n",
       "    <tr>\n",
       "      <th>150</th>\n",
       "      <td>151</td>\n",
       "      <td>UP</td>\n",
       "      <td>UP_1_006</td>\n",
       "      <td>USUAL</td>\n",
       "      <td>0</td>\n",
       "      <td>2.03</td>\n",
       "      <td>2015-07-01</td>\n",
       "      <td>2016-12-30</td>\n",
       "      <td>17</td>\n",
       "      <td>0</td>\n",
       "      <td>1</td>\n",
       "      <td>1</td>\n",
       "      <td>1</td>\n",
       "      <td>1</td>\n",
       "      <td>Jacob G.</td>\n",
       "      <td>Brad P.</td>\n",
       "    </tr>\n",
       "    <tr>\n",
       "      <th>151</th>\n",
       "      <td>152</td>\n",
       "      <td>UP</td>\n",
       "      <td>UP_1_010</td>\n",
       "      <td>USUAL</td>\n",
       "      <td>0</td>\n",
       "      <td>1.78</td>\n",
       "      <td>2016-04-01</td>\n",
       "      <td>2016-12-30</td>\n",
       "      <td>8</td>\n",
       "      <td>0</td>\n",
       "      <td>1</td>\n",
       "      <td>1</td>\n",
       "      <td>1</td>\n",
       "      <td>0</td>\n",
       "      <td>Maryam E.</td>\n",
       "      <td>Brad P.</td>\n",
       "    </tr>\n",
       "    <tr>\n",
       "      <th>152</th>\n",
       "      <td>153</td>\n",
       "      <td>OB</td>\n",
       "      <td>ОB_0_012</td>\n",
       "      <td>STRAT</td>\n",
       "      <td>1</td>\n",
       "      <td>7.54</td>\n",
       "      <td>2015-08-20</td>\n",
       "      <td>2018-12-31</td>\n",
       "      <td>40</td>\n",
       "      <td>1</td>\n",
       "      <td>1</td>\n",
       "      <td>1</td>\n",
       "      <td>1</td>\n",
       "      <td>0</td>\n",
       "      <td>Bethany S.</td>\n",
       "      <td>Michael J.</td>\n",
       "    </tr>\n",
       "    <tr>\n",
       "      <th>153</th>\n",
       "      <td>154</td>\n",
       "      <td>OB</td>\n",
       "      <td>ОB_1_013</td>\n",
       "      <td>USUAL</td>\n",
       "      <td>0</td>\n",
       "      <td>4.95</td>\n",
       "      <td>2015-09-01</td>\n",
       "      <td>2016-06-30</td>\n",
       "      <td>9</td>\n",
       "      <td>0</td>\n",
       "      <td>1</td>\n",
       "      <td>1</td>\n",
       "      <td>1</td>\n",
       "      <td>1</td>\n",
       "      <td>Chloe L.</td>\n",
       "      <td>Michael J.</td>\n",
       "    </tr>\n",
       "    <tr>\n",
       "      <th>154</th>\n",
       "      <td>155</td>\n",
       "      <td>OB</td>\n",
       "      <td>ОB_1_006</td>\n",
       "      <td>USUAL</td>\n",
       "      <td>0</td>\n",
       "      <td>2.36</td>\n",
       "      <td>2015-06-01</td>\n",
       "      <td>2016-10-01</td>\n",
       "      <td>16</td>\n",
       "      <td>0</td>\n",
       "      <td>1</td>\n",
       "      <td>1</td>\n",
       "      <td>1</td>\n",
       "      <td>0</td>\n",
       "      <td>George H.</td>\n",
       "      <td>Michael J.</td>\n",
       "    </tr>\n",
       "  </tbody>\n",
       "</table>\n",
       "<p>155 rows × 16 columns</p>\n",
       "</div>"
      ],
      "text/plain": [
       "       № GROUP INITIATIVE CODE CATEGORY  BUDGET >5 MLN  BUDGET MLN  \\\n",
       "0      1    UB        UB_0_008    STRAT              1        7.18   \n",
       "1      2    SР        SР_1_004    USUAL              0        2.55   \n",
       "2      3    OB        OB_1_009    USUAL              0        3.68   \n",
       "3      4    UB        UB_0_004    STRAT              1        5.53   \n",
       "4      5    РP        РP_1_044    USUAL              0        4.34   \n",
       "..   ...   ...             ...      ...            ...         ...   \n",
       "150  151    UP        UP_1_006    USUAL              0        2.03   \n",
       "151  152    UP        UP_1_010    USUAL              0        1.78   \n",
       "152  153    OB        ОB_0_012    STRAT              1        7.54   \n",
       "153  154    OB        ОB_1_013    USUAL              0        4.95   \n",
       "154  155    OB        ОB_1_006    USUAL              0        2.36   \n",
       "\n",
       "    DATE START PLAN DATE END PLAN  DURATION PLAN  DURATION >30  \\\n",
       "0        2016-06-17    2018-12-28             30             1   \n",
       "1        2015-07-01    2016-08-30             13             0   \n",
       "2        2015-07-28    2019-04-30             45             1   \n",
       "3        2015-12-24    2016-12-30             12             0   \n",
       "4        2020-03-19    2021-10-31             19             0   \n",
       "..              ...           ...            ...           ...   \n",
       "150      2015-07-01    2016-12-30             17             0   \n",
       "151      2016-04-01    2016-12-30              8             0   \n",
       "152      2015-08-20    2018-12-31             40             1   \n",
       "153      2015-09-01    2016-06-30              9             0   \n",
       "154      2015-06-01    2016-10-01             16             0   \n",
       "\n",
       "     COMPLIANCE STRATEGY  AUTHORIZATION  FINISH FACT  REQUIREMENTS LAW  \\\n",
       "0                      1              1            1                 1   \n",
       "1                      0              1            1                 0   \n",
       "2                      1              1            1                 1   \n",
       "3                      1              0            0                 0   \n",
       "4                      1              1            1                 1   \n",
       "..                   ...            ...          ...               ...   \n",
       "150                    1              1            1                 1   \n",
       "151                    1              1            1                 0   \n",
       "152                    1              1            1                 0   \n",
       "153                    1              1            1                 1   \n",
       "154                    1              1            1                 0   \n",
       "\n",
       "         PM NAME SPONSOR NAME  \n",
       "0     William T.      Bill E.  \n",
       "1      Thomas M.     Jerry H.  \n",
       "2    Scarlett Y.    Gordon D.  \n",
       "3      Samuel.J.      Bill E.  \n",
       "4      Phoebe F.      Dave P.  \n",
       "..           ...          ...  \n",
       "150     Jacob G.      Brad P.  \n",
       "151    Maryam E.      Brad P.  \n",
       "152   Bethany S.   Michael J.  \n",
       "153     Chloe L.   Michael J.  \n",
       "154    George H.   Michael J.  \n",
       "\n",
       "[155 rows x 16 columns]"
      ]
     },
     "execution_count": 3,
     "metadata": {},
     "output_type": "execute_result"
    }
   ],
   "source": [
    "df"
   ]
  },
  {
   "cell_type": "code",
   "execution_count": 4,
   "metadata": {},
   "outputs": [],
   "source": [
    "# Add column with project duration in days\n",
    "df['DAYS'] = df['DATE END PLAN'] - df['DATE START PLAN']\n",
    "# Convert timedelta to int (days)\n",
    "df['DAYS'] = df['DAYS'] // np.timedelta64(1, 'D')"
   ]
  },
  {
   "cell_type": "code",
   "execution_count": 5,
   "metadata": {},
   "outputs": [],
   "source": [
    "# Set duration plan as difference between start date abd end date (month)\n",
    "# We need to update original column 'DURATION PLAN' because it was calculated in excel by DATEDIF formula.\n",
    "# In some rare cases this formula returns different results from calculated in Python. \n",
    "# But for data generation original and calculated values have to be equal.\n",
    "\n",
    "def duration_plan(df) -> int:\n",
    "    return (df['DATE END PLAN'] - df['DATE START PLAN']) // np.timedelta64(1, 'M')"
   ]
  },
  {
   "cell_type": "code",
   "execution_count": 6,
   "metadata": {},
   "outputs": [],
   "source": [
    "df['DURATION PLAN'] = duration_plan(df)"
   ]
  },
  {
   "cell_type": "code",
   "execution_count": 7,
   "metadata": {},
   "outputs": [
    {
     "name": "stdout",
     "output_type": "stream",
     "text": [
      "<class 'pandas.core.frame.DataFrame'>\n",
      "RangeIndex: 155 entries, 0 to 154\n",
      "Data columns (total 17 columns):\n",
      " #   Column               Non-Null Count  Dtype         \n",
      "---  ------               --------------  -----         \n",
      " 0   №                    155 non-null    int64         \n",
      " 1   GROUP                155 non-null    object        \n",
      " 2   INITIATIVE CODE      155 non-null    object        \n",
      " 3   CATEGORY             155 non-null    object        \n",
      " 4   BUDGET >5 MLN        155 non-null    int64         \n",
      " 5   BUDGET MLN           155 non-null    float64       \n",
      " 6   DATE START PLAN      155 non-null    datetime64[ns]\n",
      " 7   DATE END PLAN        155 non-null    datetime64[ns]\n",
      " 8   DURATION PLAN        155 non-null    int64         \n",
      " 9   DURATION >30         155 non-null    int64         \n",
      " 10  COMPLIANCE STRATEGY  155 non-null    int64         \n",
      " 11  AUTHORIZATION        155 non-null    int64         \n",
      " 12  FINISH FACT          155 non-null    int64         \n",
      " 13  REQUIREMENTS LAW     155 non-null    int64         \n",
      " 14  PM NAME              155 non-null    object        \n",
      " 15  SPONSOR NAME         155 non-null    object        \n",
      " 16  DAYS                 155 non-null    int64         \n",
      "dtypes: datetime64[ns](2), float64(1), int64(9), object(5)\n",
      "memory usage: 20.7+ KB\n"
     ]
    }
   ],
   "source": [
    "# Let's have a look on data types\n",
    "df.info()"
   ]
  },
  {
   "cell_type": "code",
   "execution_count": 8,
   "metadata": {},
   "outputs": [],
   "source": [
    "# Drop unique columns, which we will not use in machine learning\n",
    "df = df.drop(['№', 'INITIATIVE CODE'], axis = 1)"
   ]
  },
  {
   "cell_type": "code",
   "execution_count": 9,
   "metadata": {},
   "outputs": [],
   "source": [
    "# Split data into train for generating and hold-out set\n",
    "df_gen, df_test = train_test_split(df, test_size=0.2, random_state=8)"
   ]
  },
  {
   "cell_type": "code",
   "execution_count": 10,
   "metadata": {},
   "outputs": [],
   "source": [
    "# Save hold-out set\n",
    "df_test.to_csv(\"test_data.csv\")"
   ]
  },
  {
   "cell_type": "markdown",
   "metadata": {},
   "source": [
    "## Set Constraints"
   ]
  },
  {
   "cell_type": "code",
   "execution_count": 11,
   "metadata": {},
   "outputs": [],
   "source": [
    "# imports\n",
    "from sdv.constraints import ColumnFormula"
   ]
  },
  {
   "cell_type": "code",
   "execution_count": 12,
   "metadata": {},
   "outputs": [],
   "source": [
    "# Set DATE END PLAN as DATE START PLAN plus DAYS\n",
    "def date_end_plan(df) -> datetime64:\n",
    "    return df['DATE START PLAN'] + pd.to_timedelta(df['DAYS'], unit='D')\n",
    "\n",
    "date_end_plan_constraint = ColumnFormula(\n",
    "    column='DATE END PLAN',\n",
    "    formula=date_end_plan,\n",
    "    handling_strategy='transform'\n",
    ")"
   ]
  },
  {
   "cell_type": "code",
   "execution_count": 13,
   "metadata": {},
   "outputs": [],
   "source": [
    "# Set duration plan as difference between start date abd end date (month)\n",
    "\n",
    "duration_plan_constraint = ColumnFormula(\n",
    "    column='DURATION PLAN',\n",
    "    formula=duration_plan,\n",
    "    handling_strategy='transform'    \n",
    ")"
   ]
  },
  {
   "cell_type": "code",
   "execution_count": 14,
   "metadata": {},
   "outputs": [],
   "source": [
    "# set Budget > 5 MLN feature\n",
    "def budget_gt_5mln(df) -> int:\n",
    "    return df['BUDGET MLN'].apply(lambda x: 1 if x > 5 else 0)\n",
    "\n",
    "budget_gt_5mln_constraint = ColumnFormula(\n",
    "    column='BUDGET >5 MLN',\n",
    "    formula=budget_gt_5mln,\n",
    "    handling_strategy='transform'\n",
    ")"
   ]
  },
  {
   "cell_type": "code",
   "execution_count": 15,
   "metadata": {},
   "outputs": [],
   "source": [
    "# set duration more or equal 30 month constraint\n",
    "def duration_ge_30(df) -> int:\n",
    "    return df['DURATION PLAN'].apply(lambda x: 1 if x >= 30 else 0)\n",
    "\n",
    "duration_ge_30_constraint = ColumnFormula(\n",
    "    column='DURATION >30',\n",
    "    formula=duration_ge_30,\n",
    "    handling_strategy='transform'\n",
    ")"
   ]
  },
  {
   "cell_type": "code",
   "execution_count": 16,
   "metadata": {},
   "outputs": [],
   "source": [
    "constraints = [budget_gt_5mln_constraint, duration_ge_30_constraint, duration_plan_constraint, date_end_plan_constraint]"
   ]
  },
  {
   "cell_type": "markdown",
   "metadata": {},
   "source": [
    "## Set other parametres"
   ]
  },
  {
   "cell_type": "code",
   "execution_count": 17,
   "metadata": {},
   "outputs": [],
   "source": [
    "#Set transformer for categorical columns with relatively big number of groups. \n",
    "#For columns 'GROUP' and 'CATEGORY' by default transformer is One Hot Encoder\n",
    "\n",
    "field_transformers = {\n",
    "    'PM NAME': 'label_encoding',\n",
    "    'SPONSOR NAME': 'label_encoding'    \n",
    "}"
   ]
  },
  {
   "cell_type": "markdown",
   "metadata": {},
   "source": [
    "## Generate synthetic data"
   ]
  },
  {
   "cell_type": "code",
   "execution_count": 18,
   "metadata": {},
   "outputs": [],
   "source": [
    "# Generate synthetic data\n",
    "def generate_data(real_data: pd.DataFrame) -> dict:\n",
    "    args = dict(rounding=2, field_transformers=field_transformers, constraints=constraints)\n",
    "    models = [\n",
    "                ('GaussianCopula', GaussianCopula(**args)),\n",
    "                ('CTGAN', CTGAN(**args)),\n",
    "                ('CopulaGAN', CopulaGAN(**args)),\n",
    "                ('TVAE', TVAE(**args))\n",
    "             ]\n",
    "    \n",
    "    res = dict()\n",
    "    for name, model in models:\n",
    "        with warnings.catch_warnings():\n",
    "            warnings.simplefilter('ignore')\n",
    "            model.fit(real_data)\n",
    "        synth_data = model.sample(2000)\n",
    "        res[name] = synth_data\n",
    "    \n",
    "    return res"
   ]
  },
  {
   "cell_type": "code",
   "execution_count": 19,
   "metadata": {},
   "outputs": [],
   "source": [
    "# Get synthetic data\n",
    "synth_data_dict = generate_data(df_gen)"
   ]
  },
  {
   "cell_type": "markdown",
   "metadata": {},
   "source": [
    "## Synthetic data evaluation"
   ]
  },
  {
   "cell_type": "markdown",
   "metadata": {},
   "source": [
    "https://sdv.dev/SDV/user_guides/evaluation/single_table_metrics.html"
   ]
  },
  {
   "cell_type": "markdown",
   "metadata": {},
   "source": [
    "Statistical metrics"
   ]
  },
  {
   "cell_type": "code",
   "execution_count": 20,
   "metadata": {},
   "outputs": [],
   "source": [
    "# For continuos columns will use two-sample Kolmogorov–Smirnov test.\n",
    "# For discrete columns will use Chi-squared test.\n",
    "# In each case, the statistical test will be executed on all the compatible column \n",
    "# (so, categorical or boolean columns for CSTest and numerical columns for KSTest), \n",
    "# and report the average score obtained.\n",
    "from sdv.metrics.tabular import CSTest, KSTest"
   ]
  },
  {
   "cell_type": "markdown",
   "metadata": {},
   "source": [
    "Likelihood metrics"
   ]
  },
  {
   "cell_type": "code",
   "execution_count": 21,
   "metadata": {},
   "outputs": [],
   "source": [
    "from sdv.metrics.tabular import BNLikelihood"
   ]
  },
  {
   "cell_type": "markdown",
   "metadata": {},
   "source": [
    "Detection Metrics"
   ]
  },
  {
   "cell_type": "code",
   "execution_count": 22,
   "metadata": {},
   "outputs": [],
   "source": [
    "# We will use logistic regression and SVC classifier\n",
    "from sdv.metrics.tabular import LogisticDetection, SVCDetection"
   ]
  },
  {
   "cell_type": "code",
   "execution_count": 23,
   "metadata": {},
   "outputs": [],
   "source": [
    "#distributions = model.get_distributions()\n",
    "#distributions"
   ]
  },
  {
   "cell_type": "code",
   "execution_count": 24,
   "metadata": {},
   "outputs": [],
   "source": [
    "# Get % of target variable\n",
    "def get_target(synth_data: pd.DataFrame, target: str) -> tuple:\n",
    "    percent = synth_data[target].value_counts(normalize = True)\n",
    "    return (percent[0], percent[1])"
   ]
  },
  {
   "cell_type": "code",
   "execution_count": 25,
   "metadata": {},
   "outputs": [],
   "source": [
    "# setup metrics\n",
    "def get_metrics(real_data: pd.DataFrame, synth_data: pd.DataFrame) -> pd.DataFrame:\n",
    "    metrics = [\n",
    "                ('target', get_target(synth_data, 'AUTHORIZATION')),\n",
    "                ('CSTest', CSTest.compute(real_data, synth_data)),\n",
    "                ('KSTest', KSTest.compute(real_data, synth_data)),\n",
    "                ('BNLikelihood', BNLikelihood.compute(real_data, synth_data)),\n",
    "                ('LogisticDetection', LogisticDetection.compute(real_data, synth_data)),\n",
    "                ('SVCDetection', SVCDetection.compute(real_data, synth_data))\n",
    "    ]\n",
    "    \n",
    "    result = []\n",
    "    names = []\n",
    "    for name, metric in metrics:\n",
    "        names.append(name)\n",
    "        result.append(metric)\n",
    "        \n",
    "    return pd.DataFrame([result], columns=names)"
   ]
  },
  {
   "cell_type": "code",
   "execution_count": 26,
   "metadata": {},
   "outputs": [],
   "source": [
    "# Evaluate synthetic data, obtained from different models, by different metrics\n",
    "def exp_run(real_data: pd.DataFrame, synth_data: dict) -> pd.DataFrame:\n",
    "    names = []\n",
    "    results = []\n",
    "    for name, sdata in synth_data.items():\n",
    "        results.append(get_metrics(real_data, sdata))\n",
    "        names.append(name)\n",
    "                \n",
    "    return pd.concat(results).set_axis(names)"
   ]
  },
  {
   "cell_type": "code",
   "execution_count": 27,
   "metadata": {},
   "outputs": [
    {
     "data": {
      "text/html": [
       "<div>\n",
       "<style scoped>\n",
       "    .dataframe tbody tr th:only-of-type {\n",
       "        vertical-align: middle;\n",
       "    }\n",
       "\n",
       "    .dataframe tbody tr th {\n",
       "        vertical-align: top;\n",
       "    }\n",
       "\n",
       "    .dataframe thead th {\n",
       "        text-align: right;\n",
       "    }\n",
       "</style>\n",
       "<table border=\"1\" class=\"dataframe\">\n",
       "  <thead>\n",
       "    <tr style=\"text-align: right;\">\n",
       "      <th></th>\n",
       "      <th>target</th>\n",
       "      <th>CSTest</th>\n",
       "      <th>KSTest</th>\n",
       "      <th>BNLikelihood</th>\n",
       "      <th>LogisticDetection</th>\n",
       "      <th>SVCDetection</th>\n",
       "    </tr>\n",
       "  </thead>\n",
       "  <tbody>\n",
       "    <tr>\n",
       "      <th>GaussianCopula</th>\n",
       "      <td>(0.454, 0.546)</td>\n",
       "      <td>0.882383</td>\n",
       "      <td>0.822781</td>\n",
       "      <td>0.000276</td>\n",
       "      <td>0.054615</td>\n",
       "      <td>0.073394</td>\n",
       "    </tr>\n",
       "    <tr>\n",
       "      <th>CTGAN</th>\n",
       "      <td>(0.261, 0.739)</td>\n",
       "      <td>0.944192</td>\n",
       "      <td>0.799020</td>\n",
       "      <td>0.000785</td>\n",
       "      <td>0.269758</td>\n",
       "      <td>0.094483</td>\n",
       "    </tr>\n",
       "    <tr>\n",
       "      <th>CopulaGAN</th>\n",
       "      <td>(0.058, 0.942)</td>\n",
       "      <td>0.950459</td>\n",
       "      <td>0.846552</td>\n",
       "      <td>0.001299</td>\n",
       "      <td>0.262415</td>\n",
       "      <td>0.131475</td>\n",
       "    </tr>\n",
       "    <tr>\n",
       "      <th>TVAE</th>\n",
       "      <td>(0.027, 0.973)</td>\n",
       "      <td>0.940919</td>\n",
       "      <td>0.837835</td>\n",
       "      <td>0.003674</td>\n",
       "      <td>0.341948</td>\n",
       "      <td>0.221455</td>\n",
       "    </tr>\n",
       "  </tbody>\n",
       "</table>\n",
       "</div>"
      ],
      "text/plain": [
       "                        target    CSTest    KSTest  BNLikelihood  \\\n",
       "GaussianCopula  (0.454, 0.546)  0.882383  0.822781      0.000276   \n",
       "CTGAN           (0.261, 0.739)  0.944192  0.799020      0.000785   \n",
       "CopulaGAN       (0.058, 0.942)  0.950459  0.846552      0.001299   \n",
       "TVAE            (0.027, 0.973)  0.940919  0.837835      0.003674   \n",
       "\n",
       "                LogisticDetection  SVCDetection  \n",
       "GaussianCopula           0.054615      0.073394  \n",
       "CTGAN                    0.269758      0.094483  \n",
       "CopulaGAN                0.262415      0.131475  \n",
       "TVAE                     0.341948      0.221455  "
      ]
     },
     "execution_count": 27,
     "metadata": {},
     "output_type": "execute_result"
    }
   ],
   "source": [
    "exp_run(df_gen, synth_data_dict)"
   ]
  },
  {
   "cell_type": "code",
   "execution_count": 28,
   "metadata": {},
   "outputs": [],
   "source": [
    "# The best result give GaussianCopula\n",
    "# Save all synthetic data which we will use in further experiments\n",
    "for name, sdata in synth_data_dict.items():\n",
    "    sdata.to_csv(f'df_synth_{name}.csv')"
   ]
  }
 ],
 "metadata": {
  "interpreter": {
   "hash": "cdb4f2dafa75f01284caa1e51ec33184ef1d855328ca1e59b805b0a268a86f44"
  },
  "kernelspec": {
   "display_name": "Python 3.9.7 64-bit ('synth_data': conda)",
   "language": "python",
   "name": "python3"
  },
  "language_info": {
   "codemirror_mode": {
    "name": "ipython",
    "version": 3
   },
   "file_extension": ".py",
   "mimetype": "text/x-python",
   "name": "python",
   "nbconvert_exporter": "python",
   "pygments_lexer": "ipython3",
   "version": "3.9.7"
  },
  "orig_nbformat": 4
 },
 "nbformat": 4,
 "nbformat_minor": 2
}
